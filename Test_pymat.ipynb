{
 "nbformat": 4,
 "nbformat_minor": 2,
 "metadata": {
  "language_info": {
   "name": "python",
   "codemirror_mode": {
    "name": "ipython",
    "version": 3
   },
   "version": "3.7.6-final"
  },
  "orig_nbformat": 2,
  "file_extension": ".py",
  "mimetype": "text/x-python",
  "name": "python",
  "npconvert_exporter": "python",
  "pygments_lexer": "ipython3",
  "version": 3,
  "kernelspec": {
   "name": "python37464bitpy3conda34f53872e5314c5d9466e6b39ab2c91b",
   "display_name": "Python 3.7.4 64-bit ('PY3': conda)"
  }
 },
 "cells": [
  {
   "cell_type": "markdown",
   "metadata": {},
   "source": [
    "# pymat"
   ]
  },
  {
   "cell_type": "code",
   "execution_count": 1,
   "metadata": {},
   "outputs": [
    {
     "output_type": "stream",
     "name": "stdout",
     "text": "HelloWorld!\n"
    }
   ],
   "source": [
    "import os,sys\n",
    "import numpy as np\n",
    "import matplotlib.pyplot as plt\n",
    "sys.path.append(os.getcwd()+'/build')\n",
    "import pymat\n",
    "pymat.HelloWorld()"
   ]
  },
  {
   "cell_type": "code",
   "execution_count": 2,
   "metadata": {},
   "outputs": [
    {
     "output_type": "stream",
     "name": "stdout",
     "text": "[1. 1. 1.]\n[-1. -1. -1.]\n"
    }
   ],
   "source": [
    "myarray = np.zeros((3))\n",
    "print(pymat.ArrayF(myarray))\n",
    "print(myarray)"
   ]
  },
  {
   "cell_type": "code",
   "execution_count": 3,
   "metadata": {},
   "outputs": [
    {
     "output_type": "stream",
     "name": "stdout",
     "text": "[1. 1. 2.]\n[-1. -1.  0.]\n"
    }
   ],
   "source": [
    "myarray = np.array([0,0,1],dtype=float)\n",
    "print(pymat.ArrayF(myarray))\n",
    "print(myarray)"
   ]
  },
  {
   "cell_type": "markdown",
   "metadata": {},
   "source": [
    "**Remark :** It is nessecary to profide the `dtype=....` for a numpy array to be casted correctly down to the c++ level and to be modiefied"
   ]
  },
  {
   "cell_type": "markdown",
   "metadata": {},
   "source": [
    "## A Matrix Class"
   ]
  },
  {
   "cell_type": "code",
   "execution_count": 4,
   "metadata": {},
   "outputs": [
    {
     "output_type": "stream",
     "name": "stdout",
     "text": "0  1  2  \n3  4  5  \n6  7  8  \n"
    }
   ],
   "source": [
    "# Initialization:\n",
    "mat = pymat.Matrix(3,3)\n",
    "mat.print()"
   ]
  },
  {
   "cell_type": "markdown",
   "metadata": {},
   "source": [
    "A reference cannot be handeled by python as values such as float64 are imutable"
   ]
  },
  {
   "cell_type": "code",
   "execution_count": 5,
   "metadata": {},
   "outputs": [
    {
     "output_type": "stream",
     "name": "stdout",
     "text": "Straight from the matrix:  8.0\nAfter Modification      :  2\nMatrix stays unmodified : \n     0  1  2  \n3  4  5  \n6  7  8  \n"
    }
   ],
   "source": [
    "# Can I get a the reference to a c-double ?\n",
    "a = mat.vRef(2,2)\n",
    "print(\"Straight from the matrix: \", a)\n",
    "a = 2\n",
    "print(\"After Modification      : \", a)\n",
    "print(\"Matrix stays unmodified : \")\n",
    "mat.print()"
   ]
  },
  {
   "cell_type": "markdown",
   "metadata": {},
   "source": [
    "Returning the content of the matrix as numpy array **! data being copied !**"
   ]
  },
  {
   "cell_type": "code",
   "execution_count": 6,
   "metadata": {},
   "outputs": [
    {
     "output_type": "stream",
     "name": "stdout",
     "text": "[[0. 1. 2.]\n [3. 4. 5.]\n [6. 7. 8.]]\n     0  1  2  \n3  4  5  \n6  7  8  \n"
    }
   ],
   "source": [
    "result = mat.ndarray()\n",
    "print(result)\n",
    "mat.print()"
   ]
  },
  {
   "cell_type": "markdown",
   "metadata": {},
   "source": [
    "A direct access, **without copying data** can be made via implementation of the python buffer protocol"
   ]
  },
  {
   "cell_type": "code",
   "execution_count": 7,
   "metadata": {},
   "outputs": [
    {
     "output_type": "stream",
     "name": "stdout",
     "text": "[[0. 1. 2.]\n [3. 4. 5.]\n [6. 7. 8.]]\n"
    }
   ],
   "source": [
    "test = np.array(mat, copy=False)\n",
    "print(test)"
   ]
  },
  {
   "cell_type": "code",
   "execution_count": 8,
   "metadata": {},
   "outputs": [
    {
     "output_type": "stream",
     "name": "stdout",
     "text": "[[ 0.  1.  2.]\n [ 3. 10.  5.]\n [ 6.  7.  8.]]\n     0  1  2  \n3  10  5  \n6  7  8  \n"
    }
   ],
   "source": [
    "test[1,1] = 10\n",
    "print(test)\n",
    "mat.print()"
   ]
  },
  {
   "cell_type": "markdown",
   "metadata": {},
   "source": [
    "# The Matrix **A** example"
   ]
  },
  {
   "cell_type": "code",
   "execution_count": 10,
   "metadata": {},
   "outputs": [],
   "source": [
    "matA = pymat.MatrixA()\n",
    "np_matA = np.array(matA, copy=False)"
   ]
  },
  {
   "cell_type": "code",
   "execution_count": null,
   "metadata": {},
   "outputs": [],
   "source": []
  }
 ]
}